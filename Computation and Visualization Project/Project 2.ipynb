{
 "cells": [
  {
   "cell_type": "markdown",
   "id": "577b088b-5685-486d-ac04-991fa21e3521",
   "metadata": {},
   "source": [
    "Data Acquisition and Inspection"
   ]
  },
  {
   "cell_type": "code",
   "execution_count": 4,
   "id": "4dfa4ed5-768c-433a-92cb-c44fa78bb53d",
   "metadata": {},
   "outputs": [],
   "source": [
    "import pandas as pd\n",
    "\n",
    "df = pd.read_csv('vehiclefueleconomies.csv', low_memory=False)"
   ]
  },
  {
   "cell_type": "code",
   "execution_count": 6,
   "id": "8a606151-c527-4d8b-85b0-61e239a15736",
   "metadata": {},
   "outputs": [
    {
     "name": "stdout",
     "output_type": "stream",
     "text": [
      "Column 'evMotor':\n",
      "[nan '49 kW DC Brushless' '85 kW AC Induction' '102kW AC Induction'\n",
      " '49kW DC Brushless' '67 KW AC  Induction' '67 KW AC' '56kW AC Induction'\n",
      " '62 KW AC Induction' '50 KW DC' '27 KW AC Induction' '67 KW AC Induction'\n",
      " '24 KW AC Synchronous' '288V Ni-MH' '330V Ni-MH' '36V Ni-MH' '245V Ni-MH'\n",
      " '158V Ni-MH' '202V Ni-MH' '150 kW' '300V Ni-MH' '101V Ni-MH' '275V Ni-MH'\n",
      " '126V Li-Ion' '312V Ni-MH' '80 kW DCPM' '111 kW' '30 kW DCPM'\n",
      " '270V Li-Ion' '125 kW AC Induction' '144V Li-Ion' '346V Li-Ion'\n",
      " '115V Li-Ion' '49 kW DCPM' '52 kW AC Induction' '144V Ni-MH'\n",
      " '100 kW DCPM' '107 kW AC Induction' '18 kW' '2 @ 150 kw (300 kw)'\n",
      " '260 kW AC Induction' '115 kW AC Induction' '374V Li-Ion' '75 kW AC PMSM'\n",
      " '280V Li-Ion' '107 kW AC PMSM' '92 kW DCPM' '266V Li-Ion' '55 kW DCPM'\n",
      " '68 kW' '220V Li-Ion' '225 kW AC Induction' '270 kW AC Induction'\n",
      " '82 kW ACIPM' '124 kW' '104 kW AC Induction' '259V Li-Ion' '260V Li-Ion'\n",
      " '126 kW' '270 kW AC Induction (85 kW-hr battery pack)'\n",
      " '225 kW AC Induction (60 kW-hr battery pack)' '70 kW'\n",
      " '132 kW AC Induction' '125kW' '96kW' '132kW' 'Two 480V Li-Ion'\n",
      " '180 and 350 kW AC Induction (85 kW-hr battery pack)'\n",
      " '95 kW and 116 kW DC Brushless' '104 kW ACPM' '82 kW AC Induction'\n",
      " '111 kW 3-Phase AC' '68 kW DCPM' '70 kW DC Brushless' '126 kW 3-Phase AC'\n",
      " '18 kW AC Induction' '81 kW AC PMSM' '132 kW AC Synchronous'\n",
      " '85 kW AC PMSM' '164 (front) 350 (rear) (85 kW-hr battery pack)'\n",
      " '140 (front) 140 (rear) (85 kW-hr battery pack)'\n",
      " '140 (front) 140 (rear) (70 kW-hr battery pack)' '85 kW DCPM'\n",
      " '140 (front) 140 (rear) (90 kW-hr battery pack)'\n",
      " '164 (front) 350 (rear) (90 kW-hr battery pack)'\n",
      " '285 kW AC Induction (90 kW-hr battery pack)' '55 and 174kW 3-Phase AC'\n",
      " '48 and 87 kW 3-Phase AC'\n",
      " '193 (front) 193 (rear) (90 kW-hr battery pack)'\n",
      " '193 (front) 375 (rear) (90 kW-hr battery pack)' '105 kW ACPM'\n",
      " '50 kW IPMSM' '83 kW AC Induction' '207V Li-Ion' '34 and 65kW DCPM'\n",
      " '285 kW AC Induction (70 kW-hr battery pack)'\n",
      " '285 kW AC Induction (85 kW-hr battery pack)'\n",
      " '193 (front) 193 (rear) (70 kW-hr battery pack)'\n",
      " '193 (front) 193 (rear) (85 kW-hr battery pack)'\n",
      " '193 (front) 375 (rear) (85 kW-hr battery pack)' '65kW' '300V Li-Ion'\n",
      " '86V Li-Ion' '285 kW AC Induction (75 kW-hr battery pack)'\n",
      " '193 (front) 193 (rear) (75 kW-hr battery pack)' '75 kW AC PM/B'\n",
      " '285 kW AC Induction (60 kW-hr battery pack)'\n",
      " '193 (front) 193 (rear) (60 kW-hr battery pack)'\n",
      " '193 (front) 375 (rear) (100 kW-hr battery pack)' '60 kW DCPM'\n",
      " '83kW DCPM' 'Two 444V Li-Ion' '150 kW ACPM' '125kW AC Induction'\n",
      " '96kW AC Induction' '50kW IPMSM' '88 kW AC PMSM' '240V Li-Ion'\n",
      " '89 kW AC Induction' '202V Li-Ion' '16 and 37 kW AC Induction'\n",
      " '100 kW AC PMSM' '193 (front) 193 (rear) (100 kW-hr battery pack)'\n",
      " '59 and 61kW 3-Phase AC' '120 kW AC PMSM' '60 KW AC Synchronous'\n",
      " '192 kW AC 3-Phase' '311V Li-Ion' '65 kW AC Induction'\n",
      " '34 and 65kW 3-phase Sync.' '150 and 150 kw DCPM'\n",
      " '59 and 61 kW 3-Phase AC' '32kW IPMSM' '135kW AC PMSM'\n",
      " '202 kW AC 3-Phase' '270 kW AC Induction (75 kW-hr battery pack)'\n",
      " '110 kW DCPM' '48V Li-Ion' '147 and 188 kW AC 3-Phase'\n",
      " '147 and 202 kW AC 3-Phase' '222V Li-Ion' '150 kW AC PMSM'\n",
      " '147 and 147 kW AC 3-Phase']\n",
      "\n",
      "Column 'c240Dscr':\n",
      "[nan 'single charger' '3.6 kW charger' 'standard charger' '7.2 kW charger'\n",
      " '6.6 kW charger']\n",
      "\n",
      "Column 'charge240b':\n",
      "[0.   3.75 4.75 4.   2.5  5.   7.   8.5 ]\n",
      "\n",
      "Column 'createdOn':\n",
      "['Tue Jan 01 00:00:00 EST 2013' 'Wed Dec 04 00:00:00 EST 2013'\n",
      " 'Mon Feb 17 00:00:00 EST 2014' 'Wed Apr 16 00:00:00 EDT 2014'\n",
      " 'Mon Aug 04 00:00:00 EDT 2014' 'Tue Oct 29 00:00:00 EDT 2013'\n",
      " 'Mon Nov 04 00:00:00 EST 2013' 'Thu Nov 07 00:00:00 EST 2013'\n",
      " 'Tue Nov 19 00:00:00 EST 2013' 'Wed Dec 18 00:00:00 EST 2013'\n",
      " 'Thu Dec 19 00:00:00 EST 2013' 'Mon Jan 13 00:00:00 EST 2014'\n",
      " 'Wed Jan 22 00:00:00 EST 2014' 'Fri Feb 07 00:00:00 EST 2014'\n",
      " 'Fri Feb 28 00:00:00 EST 2014' 'Mon Mar 10 00:00:00 EDT 2014'\n",
      " 'Fri Mar 21 00:00:00 EDT 2014' 'Wed Apr 02 00:00:00 EDT 2014'\n",
      " 'Mon May 05 00:00:00 EDT 2014' 'Thu May 15 00:00:00 EDT 2014'\n",
      " 'Mon Jun 16 00:00:00 EDT 2014' 'Wed Jun 25 00:00:00 EDT 2014'\n",
      " 'Fri Jun 27 00:00:00 EDT 2014' 'Mon Jul 07 00:00:00 EDT 2014'\n",
      " 'Thu Jul 17 00:00:00 EDT 2014' 'Wed Aug 20 00:00:00 EDT 2014'\n",
      " 'Wed Aug 27 00:00:00 EDT 2014' 'Wed Sep 10 00:00:00 EDT 2014'\n",
      " 'Mon Oct 13 00:00:00 EDT 2014' 'Mon Jan 12 00:00:00 EST 2015'\n",
      " 'Fri May 29 00:00:00 EDT 2015' 'Mon Jan 06 00:00:00 EST 2014'\n",
      " 'Fri Jan 17 00:00:00 EST 2014' 'Wed Feb 05 00:00:00 EST 2014'\n",
      " 'Thu Feb 20 00:00:00 EST 2014' 'Tue Mar 04 00:00:00 EST 2014'\n",
      " 'Mon Apr 07 00:00:00 EDT 2014' 'Fri Apr 11 00:00:00 EDT 2014'\n",
      " 'Mon Apr 21 00:00:00 EDT 2014' 'Fri Apr 25 00:00:00 EDT 2014'\n",
      " 'Wed May 14 00:00:00 EDT 2014' 'Mon May 19 00:00:00 EDT 2014'\n",
      " 'Fri May 30 00:00:00 EDT 2014' 'Fri Jun 06 00:00:00 EDT 2014'\n",
      " 'Thu Jun 19 00:00:00 EDT 2014' 'Thu Jun 26 00:00:00 EDT 2014'\n",
      " 'Wed Jul 16 00:00:00 EDT 2014' 'Wed Jul 23 00:00:00 EDT 2014'\n",
      " 'Thu Jul 31 00:00:00 EDT 2014' 'Tue Aug 12 00:00:00 EDT 2014'\n",
      " 'Thu Sep 04 00:00:00 EDT 2014' 'Thu Sep 11 00:00:00 EDT 2014'\n",
      " 'Thu Sep 18 00:00:00 EDT 2014' 'Thu Sep 25 00:00:00 EDT 2014'\n",
      " 'Mon Oct 06 00:00:00 EDT 2014' 'Thu Oct 09 00:00:00 EDT 2014'\n",
      " 'Thu Oct 16 00:00:00 EDT 2014' 'Mon Oct 27 00:00:00 EDT 2014'\n",
      " 'Thu Nov 06 00:00:00 EST 2014' 'Thu Nov 20 00:00:00 EST 2014'\n",
      " 'Wed Dec 10 00:00:00 EST 2014' 'Wed Dec 17 00:00:00 EST 2014'\n",
      " 'Thu Dec 18 00:00:00 EST 2014' 'Tue Jan 06 00:00:00 EST 2015'\n",
      " 'Thu Jan 22 00:00:00 EST 2015' 'Tue Jan 27 00:00:00 EST 2015'\n",
      " 'Fri Feb 06 00:00:00 EST 2015' 'Wed Feb 18 00:00:00 EST 2015'\n",
      " 'Fri Feb 20 00:00:00 EST 2015' 'Tue Mar 03 00:00:00 EST 2015'\n",
      " 'Tue Mar 17 00:00:00 EDT 2015' 'Mon Apr 06 00:00:00 EDT 2015'\n",
      " 'Tue May 05 00:00:00 EDT 2015' 'Wed Sep 16 00:00:00 EDT 2015'\n",
      " 'Thu Aug 06 00:00:00 EDT 2015' 'Tue Aug 18 00:00:00 EDT 2015'\n",
      " 'Thu Jan 21 00:00:00 EST 2016' 'Thu May 04 00:00:00 EDT 2017'\n",
      " 'Wed Jan 14 00:00:00 EST 2015' 'Fri Feb 27 00:00:00 EST 2015'\n",
      " 'Thu Mar 12 00:00:00 EDT 2015' 'Wed Mar 25 00:00:00 EDT 2015'\n",
      " 'Tue Apr 07 00:00:00 EDT 2015' 'Thu Apr 09 00:00:00 EDT 2015'\n",
      " 'Wed Apr 22 00:00:00 EDT 2015' 'Tue May 12 00:00:00 EDT 2015'\n",
      " 'Thu May 21 00:00:00 EDT 2015' 'Mon Jun 08 00:00:00 EDT 2015'\n",
      " 'Wed Jun 10 00:00:00 EDT 2015' 'Wed Jun 17 00:00:00 EDT 2015'\n",
      " 'Wed Jun 24 00:00:00 EDT 2015' 'Thu Jul 02 00:00:00 EDT 2015'\n",
      " 'Tue Jul 14 00:00:00 EDT 2015' 'Thu Jul 16 00:00:00 EDT 2015'\n",
      " 'Mon Jul 27 00:00:00 EDT 2015' 'Wed Aug 12 00:00:00 EDT 2015'\n",
      " 'Wed Aug 26 00:00:00 EDT 2015' 'Mon Aug 31 00:00:00 EDT 2015'\n",
      " 'Fri Sep 04 00:00:00 EDT 2015' 'Wed Sep 09 00:00:00 EDT 2015'\n",
      " 'Fri Sep 25 00:00:00 EDT 2015' 'Fri Oct 02 00:00:00 EDT 2015'\n",
      " 'Mon Oct 12 00:00:00 EDT 2015' 'Mon Oct 19 00:00:00 EDT 2015'\n",
      " 'Wed Oct 28 00:00:00 EDT 2015' 'Wed Nov 04 00:00:00 EST 2015'\n",
      " 'Thu Nov 12 00:00:00 EST 2015' 'Thu Nov 19 00:00:00 EST 2015'\n",
      " 'Wed Dec 02 00:00:00 EST 2015' 'Thu Dec 10 00:00:00 EST 2015'\n",
      " 'Thu Dec 17 00:00:00 EST 2015' 'Tue Jan 05 00:00:00 EST 2016'\n",
      " 'Wed Jan 13 00:00:00 EST 2016' 'Thu Jan 28 00:00:00 EST 2016'\n",
      " 'Tue Feb 02 00:00:00 EST 2016' 'Wed Feb 10 00:00:00 EST 2016'\n",
      " 'Wed Feb 17 00:00:00 EST 2016' 'Wed Feb 24 00:00:00 EST 2016'\n",
      " 'Wed Mar 02 00:00:00 EST 2016' 'Thu Mar 10 00:00:00 EST 2016'\n",
      " 'Thu Mar 17 00:00:00 EDT 2016' 'Thu Mar 24 00:00:00 EDT 2016'\n",
      " 'Mon Apr 04 00:00:00 EDT 2016' 'Tue Apr 12 00:00:00 EDT 2016'\n",
      " 'Wed Apr 20 00:00:00 EDT 2016' 'Tue Apr 26 00:00:00 EDT 2016'\n",
      " 'Wed May 04 00:00:00 EDT 2016' 'Tue May 24 00:00:00 EDT 2016'\n",
      " 'Thu Jun 02 00:00:00 EDT 2016' 'Fri Jun 03 00:00:00 EDT 2016'\n",
      " 'Wed Jul 13 00:00:00 EDT 2016' 'Wed Jul 20 00:00:00 EDT 2016'\n",
      " 'Wed Aug 10 00:00:00 EDT 2016' 'Tue Sep 13 00:00:00 EDT 2016'\n",
      " 'Fri Dec 02 00:00:00 EST 2016' 'Mon Dec 12 00:00:00 EST 2016'\n",
      " 'Tue May 10 00:00:00 EDT 2016' 'Wed May 18 00:00:00 EDT 2016'\n",
      " 'Fri May 27 00:00:00 EDT 2016' 'Fri Jun 10 00:00:00 EDT 2016'\n",
      " 'Thu Jun 16 00:00:00 EDT 2016' 'Fri Jun 24 00:00:00 EDT 2016'\n",
      " 'Thu Jul 07 00:00:00 EDT 2016' 'Wed Jul 27 00:00:00 EDT 2016'\n",
      " 'Tue Aug 02 00:00:00 EDT 2016' 'Wed Aug 17 00:00:00 EDT 2016'\n",
      " 'Thu Aug 25 00:00:00 EDT 2016' 'Thu Sep 01 00:00:00 EDT 2016'\n",
      " 'Fri Sep 16 00:00:00 EDT 2016' 'Mon Sep 26 00:00:00 EDT 2016'\n",
      " 'Wed Oct 05 00:00:00 EDT 2016' 'Wed Oct 12 00:00:00 EDT 2016'\n",
      " 'Wed Oct 19 00:00:00 EDT 2016' 'Wed Oct 26 00:00:00 EDT 2016'\n",
      " 'Mon Nov 07 00:00:00 EST 2016' 'Mon Nov 14 00:00:00 EST 2016'\n",
      " 'Tue Nov 15 00:00:00 EST 2016' 'Wed Nov 16 00:00:00 EST 2016'\n",
      " 'Tue Nov 22 00:00:00 EST 2016' 'Fri Dec 16 00:00:00 EST 2016'\n",
      " 'Thu Dec 22 00:00:00 EST 2016' 'Wed Jan 04 00:00:00 EST 2017'\n",
      " 'Wed Jan 11 00:00:00 EST 2017' 'Wed Jan 18 00:00:00 EST 2017'\n",
      " 'Wed Jan 25 00:00:00 EST 2017' 'Thu Feb 02 00:00:00 EST 2017'\n",
      " 'Fri Feb 10 00:00:00 EST 2017' 'Fri Feb 24 00:00:00 EST 2017'\n",
      " 'Thu Mar 02 00:00:00 EST 2017' 'Thu Mar 16 00:00:00 EDT 2017'\n",
      " 'Tue Mar 28 00:00:00 EDT 2017' 'Tue Apr 11 00:00:00 EDT 2017'\n",
      " 'Wed Apr 19 00:00:00 EDT 2017' 'Wed May 03 00:00:00 EDT 2017'\n",
      " 'Wed May 10 00:00:00 EDT 2017' 'Mon Jun 05 00:00:00 EDT 2017'\n",
      " 'Fri Jun 16 00:00:00 EDT 2017' 'Thu Jul 13 00:00:00 EDT 2017'\n",
      " 'Thu Aug 03 00:00:00 EDT 2017' 'Mon Aug 28 00:00:00 EDT 2017'\n",
      " 'Thu Sep 21 00:00:00 EDT 2017' 'Wed Oct 11 00:00:00 EDT 2017'\n",
      " 'Fri Nov 10 00:00:00 EST 2017' 'Tue Nov 28 00:00:00 EST 2017'\n",
      " 'Thu Dec 14 00:00:00 EST 2017' 'Wed Jan 03 00:00:00 EST 2018'\n",
      " 'Fri Mar 10 00:00:00 EST 2017' 'Wed Apr 05 00:00:00 EDT 2017'\n",
      " 'Tue Apr 25 00:00:00 EDT 2017' 'Tue May 09 00:00:00 EDT 2017'\n",
      " 'Mon May 22 00:00:00 EDT 2017' 'Wed May 24 00:00:00 EDT 2017'\n",
      " 'Mon Jun 12 00:00:00 EDT 2017' 'Mon Jun 26 00:00:00 EDT 2017'\n",
      " 'Wed Jul 05 00:00:00 EDT 2017' 'Wed Jul 19 00:00:00 EDT 2017'\n",
      " 'Wed Jul 26 00:00:00 EDT 2017' 'Thu Aug 10 00:00:00 EDT 2017'\n",
      " 'Wed Aug 16 00:00:00 EDT 2017' 'Fri Sep 01 00:00:00 EDT 2017'\n",
      " 'Mon Sep 11 00:00:00 EDT 2017' 'Wed Sep 27 00:00:00 EDT 2017'\n",
      " 'Wed Oct 04 00:00:00 EDT 2017' 'Mon Oct 23 00:00:00 EDT 2017'\n",
      " 'Fri Nov 03 00:00:00 EDT 2017' 'Thu Nov 16 00:00:00 EST 2017'\n",
      " 'Tue Dec 05 00:00:00 EST 2017' 'Wed Dec 20 00:00:00 EST 2017'\n",
      " 'Thu Jan 11 00:00:00 EST 2018' 'Thu Jan 18 00:00:00 EST 2018'\n",
      " 'Wed Jan 24 00:00:00 EST 2018' 'Tue Feb 06 00:00:00 EST 2018'\n",
      " 'Mon Feb 12 00:00:00 EST 2018' 'Mon Feb 19 00:00:00 EST 2018'\n",
      " 'Mon Feb 26 00:00:00 EST 2018' 'Fri Mar 02 00:00:00 EST 2018'\n",
      " 'Mon Mar 12 00:00:00 EDT 2018' 'Mon Mar 19 00:00:00 EDT 2018'\n",
      " 'Mon Mar 26 00:00:00 EDT 2018' 'Wed Apr 04 00:00:00 EDT 2018'\n",
      " 'Tue Apr 10 00:00:00 EDT 2018' 'Wed Apr 25 00:00:00 EDT 2018'\n",
      " 'Mon May 07 00:00:00 EDT 2018' 'Tue Jun 05 00:00:00 EDT 2018'\n",
      " 'Thu Jul 12 00:00:00 EDT 2018' 'Fri Aug 03 00:00:00 EDT 2018'\n",
      " 'Mon Nov 19 00:00:00 EST 2018' 'Wed Apr 18 00:00:00 EDT 2018'\n",
      " 'Wed May 02 00:00:00 EDT 2018' 'Wed May 16 00:00:00 EDT 2018'\n",
      " 'Tue May 29 00:00:00 EDT 2018' 'Wed Jun 13 00:00:00 EDT 2018'\n",
      " 'Wed Jun 27 00:00:00 EDT 2018' 'Tue Jul 03 00:00:00 EDT 2018'\n",
      " 'Tue Jul 17 00:00:00 EDT 2018' 'Wed Jul 25 00:00:00 EDT 2018'\n",
      " 'Fri Aug 10 00:00:00 EDT 2018' 'Thu Aug 16 00:00:00 EDT 2018'\n",
      " 'Fri Aug 17 00:00:00 EDT 2018' 'Fri Aug 24 00:00:00 EDT 2018'\n",
      " 'Thu Aug 30 00:00:00 EDT 2018' 'Tue Sep 11 00:00:00 EDT 2018'\n",
      " 'Fri Sep 21 00:00:00 EDT 2018' 'Tue Sep 25 00:00:00 EDT 2018'\n",
      " 'Wed Oct 03 00:00:00 EDT 2018' 'Wed Oct 17 00:00:00 EDT 2018'\n",
      " 'Fri Nov 02 00:00:00 EDT 2018' 'Fri Nov 09 00:00:00 EST 2018']\n",
      "\n"
     ]
    }
   ],
   "source": [
    "mixed_type_columns_indices = [72, 74, 75, 77]\n",
    "\n",
    "for column_index in mixed_type_columns_indices:\n",
    "    column_name = df.columns[column_index]\n",
    "    unique_values = df.iloc[:, column_index].unique()\n",
    "    print(f\"Column '{column_name}':\")\n",
    "    print(unique_values)\n",
    "    print()"
   ]
  },
  {
   "cell_type": "code",
   "execution_count": 8,
   "id": "7acf967e-9f82-49d5-85da-a14f056f0717",
   "metadata": {},
   "outputs": [
    {
     "name": "stdout",
     "output_type": "stream",
     "text": [
      "Shape Of the dataset: (40704, 83)\n"
     ]
    }
   ],
   "source": [
    "print(\"Shape Of the dataset:\", df.shape)"
   ]
  },
  {
   "cell_type": "code",
   "execution_count": 10,
   "id": "0cbc6be9-44c1-4b9c-bb8b-35ac8bc7260d",
   "metadata": {},
   "outputs": [
    {
     "name": "stdout",
     "output_type": "stream",
     "text": [
      "Preview of the dataset:\n",
      "   barrels08  barrelsA08  charge120  charge240  city08  city08U  cityA08  \\\n",
      "0  15.695714         0.0          0        0.0      18      0.0        0   \n",
      "1  14.982273         0.0          0        0.0      20      0.0        0   \n",
      "2  21.974000         0.0          0        0.0      13      0.0        0   \n",
      "3  21.974000         0.0          0        0.0      13      0.0        0   \n",
      "4  19.388824         0.0          0        0.0      15      0.0        0   \n",
      "\n",
      "   cityA08U  cityCD  cityE  ...  mfrCode  c240Dscr  charge240b  c240bDscr  \\\n",
      "0       0.0     0.0    0.0  ...      NaN       NaN         0.0        NaN   \n",
      "1       0.0     0.0    0.0  ...      NaN       NaN         0.0        NaN   \n",
      "2       0.0     0.0    0.0  ...      NaN       NaN         0.0        NaN   \n",
      "3       0.0     0.0    0.0  ...      NaN       NaN         0.0        NaN   \n",
      "4       0.0     0.0    0.0  ...      NaN       NaN         0.0        NaN   \n",
      "\n",
      "                      createdOn                    modifiedOn  startStop  \\\n",
      "0  Tue Jan 01 00:00:00 EST 2013  Tue Jan 01 00:00:00 EST 2013        NaN   \n",
      "1  Tue Jan 01 00:00:00 EST 2013  Tue Jan 01 00:00:00 EST 2013        NaN   \n",
      "2  Tue Jan 01 00:00:00 EST 2013  Tue Jan 01 00:00:00 EST 2013        NaN   \n",
      "3  Tue Jan 01 00:00:00 EST 2013  Tue Jan 01 00:00:00 EST 2013        NaN   \n",
      "4  Tue Jan 01 00:00:00 EST 2013  Tue Jan 01 00:00:00 EST 2013        NaN   \n",
      "\n",
      "   phevCity  phevHwy  phevComb  \n",
      "0         0        0         0  \n",
      "1         0        0         0  \n",
      "2         0        0         0  \n",
      "3         0        0         0  \n",
      "4         0        0         0  \n",
      "\n",
      "[5 rows x 83 columns]\n"
     ]
    }
   ],
   "source": [
    "print(\"Preview of the dataset:\")\n",
    "print(df.head())"
   ]
  },
  {
   "cell_type": "code",
   "execution_count": 12,
   "id": "24659ac7-55ee-442f-b634-d29d92971fa0",
   "metadata": {},
   "outputs": [
    {
     "name": "stdout",
     "output_type": "stream",
     "text": [
      "Summary statistics for numerical columns:\n",
      "          barrels08    barrelsA08  charge120     charge240        city08  \\\n",
      "count  40704.000000  40704.000000    40704.0  40704.000000  40704.000000   \n",
      "mean      17.325764      0.221045        0.0      0.037817     18.276533   \n",
      "std        4.602734      1.144019        0.0      0.545918      7.555437   \n",
      "min        0.060000      0.000000        0.0      0.000000      6.000000   \n",
      "25%       14.330870      0.000000        0.0      0.000000     15.000000   \n",
      "50%       16.480500      0.000000        0.0      0.000000     17.000000   \n",
      "75%       19.388824      0.000000        0.0      0.000000     20.000000   \n",
      "max       47.087143     18.311667        0.0     13.000000    150.000000   \n",
      "\n",
      "            city08U       cityA08      cityA08U        cityCD         cityE  \\\n",
      "count  40704.000000  40704.000000  40704.000000  40704.000000  40704.000000   \n",
      "mean       5.752379      0.635294      0.487652      0.000464      0.284498   \n",
      "std       11.267965      4.917537      4.751373      0.038980      3.558827   \n",
      "min        0.000000      0.000000      0.000000      0.000000      0.000000   \n",
      "25%        0.000000      0.000000      0.000000      0.000000      0.000000   \n",
      "50%        0.000000      0.000000      0.000000      0.000000      0.000000   \n",
      "75%       13.333625      0.000000      0.000000      0.000000      0.000000   \n",
      "max      150.000000    145.000000    145.083500      5.350000    122.000000   \n",
      "\n",
      "       ...         UCity        UCityA      UHighway     UHighwayA  \\\n",
      "count  ...  40704.000000  40704.000000  40704.000000  40704.000000   \n",
      "mean   ...     23.072373      0.816869     34.211906      1.104298   \n",
      "std    ...     10.713620      6.874517     10.926457      7.420559   \n",
      "min    ...      0.000000      0.000000      0.000000      0.000000   \n",
      "25%    ...     18.183500      0.000000     27.790325      0.000000   \n",
      "50%    ...     21.323800      0.000000     33.145500      0.000000   \n",
      "75%    ...     25.800000      0.000000     39.000000      0.000000   \n",
      "max    ...    224.800000    207.262200    182.700000    173.143600   \n",
      "\n",
      "               year  youSaveSpend    charge240b      phevCity       phevHwy  \\\n",
      "count  40704.000000  40704.000000  40704.000000  40704.000000  40704.000000   \n",
      "mean    2001.342890  -3880.601415      0.007591      0.133353      0.133525   \n",
      "std       11.046497   3157.821721      0.198383      2.724355      2.627573   \n",
      "min     1984.000000 -28250.000000      0.000000      0.000000      0.000000   \n",
      "25%     1991.000000  -5750.000000      0.000000      0.000000      0.000000   \n",
      "50%     2002.000000  -3750.000000      0.000000      0.000000      0.000000   \n",
      "75%     2011.000000  -1750.000000      0.000000      0.000000      0.000000   \n",
      "max     2019.000000   5000.000000      8.500000     97.000000     81.000000   \n",
      "\n",
      "           phevComb  \n",
      "count  40704.000000  \n",
      "mean       0.132837  \n",
      "std        2.663409  \n",
      "min        0.000000  \n",
      "25%        0.000000  \n",
      "50%        0.000000  \n",
      "75%        0.000000  \n",
      "max       88.000000  \n",
      "\n",
      "[8 rows x 59 columns]\n"
     ]
    }
   ],
   "source": [
    "print(\"Summary statistics for numerical columns:\")\n",
    "print(df.describe())"
   ]
  },
  {
   "cell_type": "markdown",
   "id": "b1fec76a-1afe-4da5-9ffa-563e8d9cee08",
   "metadata": {},
   "source": [
    "Handling Missing Values"
   ]
  },
  {
   "cell_type": "code",
   "execution_count": 20,
   "id": "7107a0d2-8e98-4c9e-950d-710234e02970",
   "metadata": {},
   "outputs": [
    {
     "name": "stdout",
     "output_type": "stream",
     "text": [
      "columns with missing values in the dataset:\n",
      "phevComb: 31704 missing values\n"
     ]
    }
   ],
   "source": [
    "print(\"columns with missing values in the dataset:\")\n",
    "missing_columns = {}\n",
    "\n",
    "for column in df.columns:\n",
    "    missing_count = df[column].isnull().sum()\n",
    "    if missing_count > 0:\n",
    "        missing_columns[columns] = missing_count\n",
    "\n",
    "sorted_missing_columns = sorted(missing_columns.items(), key=lambda x: x[1])\n",
    "\n",
    "for columns, missing_count in sorted_missing_columns:\n",
    "    print(f\"{column}: {missing_count} missing values\")"
   ]
  },
  {
   "cell_type": "code",
   "execution_count": 22,
   "id": "bda1b4f2-7cfb-4914-972b-b8f6e3147364",
   "metadata": {},
   "outputs": [
    {
     "name": "stdout",
     "output_type": "stream",
     "text": [
      "Shape of the cleaned DataFrame after dropping rows: (39343, 83)\n"
     ]
    }
   ],
   "source": [
    "columns_with_missing = ['trany', 'displ', 'drive']\n",
    "df_cleaned = df.dropna(subset = columns_with_missing)\n",
    "print(\"Shape of the cleaned DataFrame after dropping rows:\", df_cleaned.shape)"
   ]
  },
  {
   "cell_type": "code",
   "execution_count": 24,
   "id": "d991b95b-0632-4f54-a369-73d9f5283f6f",
   "metadata": {},
   "outputs": [
    {
     "name": "stdout",
     "output_type": "stream",
     "text": [
      "Type 'EV' exists in the 'atvType' column.\n"
     ]
    }
   ],
   "source": [
    "if 'EV' in df_cleaned['atvType'].unique():\n",
    "    print(\"Type 'EV' exists in the 'atvType' column.\")\n",
    "else:\n",
    "    print(\"Type 'EV' does not exists in the 'atvType' column.\")"
   ]
  },
  {
   "cell_type": "code",
   "execution_count": 26,
   "id": "679506b7-25fa-4928-9b1f-7231ef2004e4",
   "metadata": {},
   "outputs": [
    {
     "name": "stdout",
     "output_type": "stream",
     "text": [
      "Cylinder values where 'atvType' is 'EV':\n",
      "[nan]\n"
     ]
    }
   ],
   "source": [
    "ev_df = df_cleaned[df_cleaned['atvType'] == 'EV']\n",
    "print(\"Cylinder values where 'atvType' is 'EV':\")\n",
    "print(ev_df['cylinders'].unique())"
   ]
  },
  {
   "cell_type": "code",
   "execution_count": 32,
   "id": "b7e05fb9-6a01-4e4b-91d3-8a90c4fc66b9",
   "metadata": {},
   "outputs": [
    {
     "data": {
      "text/plain": [
       "35738    False\n",
       "Name: cylinders, dtype: bool"
      ]
     },
     "execution_count": 32,
     "metadata": {},
     "output_type": "execute_result"
    }
   ],
   "source": [
    "ev_null_cylinders = df_cleaned[(df_cleaned['atvType'] == 'EV') & (df_cleaned['cylinders'].isnull())]\n",
    "df_cleaned.loc[(df_cleaned['atvType'] == 'EV') & (df_cleaned['cylinders'].isnull()), 'cylinders'] == 0\n",
    "                                                                 "
   ]
  },
  {
   "cell_type": "code",
   "execution_count": 34,
   "id": "54233a2b-e841-430a-85e3-50390f047a1f",
   "metadata": {},
   "outputs": [
    {
     "name": "stdout",
     "output_type": "stream",
     "text": [
      "Cylinder values where 'atvType' is 'EV':\n",
      "[nan]\n"
     ]
    }
   ],
   "source": [
    "ev_df = df_cleaned[df_cleaned['atvType'] == 'EV']\n",
    "print(\"Cylinder values where 'atvType' is 'EV':\")\n",
    "print(ev_df['cylinders'].unique())"
   ]
  },
  {
   "cell_type": "code",
   "execution_count": 36,
   "id": "bc550fad-10e9-4731-acc1-ef74afed8995",
   "metadata": {},
   "outputs": [
    {
     "name": "stdout",
     "output_type": "stream",
     "text": [
      "Distinct values in the 'cylinders' column:\n",
      "[ 6.  8.  4. 12.  2.  5.  3. nan 10. 16.]\n"
     ]
    }
   ],
   "source": [
    "print(\"Distinct values in the 'cylinders' column:\")\n",
    "print(df_cleaned['cylinders'].unique())"
   ]
  },
  {
   "cell_type": "code",
   "execution_count": 38,
   "id": "d34f064b-1eeb-4e48-947f-ff16cf9c1bd0",
   "metadata": {},
   "outputs": [
    {
     "name": "stdout",
     "output_type": "stream",
     "text": [
      "Values in the 'atvType' column where 'cylinders' is NaN:\n",
      "4867     NaN\n",
      "35738     EV\n",
      "Name: atvType, dtype: object\n"
     ]
    }
   ],
   "source": [
    "nan_cylinders_df = df_cleaned[df_cleaned['cylinders'].isnull()]\n",
    "print(\"Values in the 'atvType' column where 'cylinders' is NaN:\")\n",
    "print(nan_cylinders_df['atvType'])"
   ]
  },
  {
   "cell_type": "code",
   "execution_count": null,
   "id": "2b068741-5753-42dc-aae1-ec27dbf09588",
   "metadata": {},
   "outputs": [],
   "source": []
  }
 ],
 "metadata": {
  "kernelspec": {
   "display_name": "Python 3 (ipykernel)",
   "language": "python",
   "name": "python3"
  },
  "language_info": {
   "codemirror_mode": {
    "name": "ipython",
    "version": 3
   },
   "file_extension": ".py",
   "mimetype": "text/x-python",
   "name": "python",
   "nbconvert_exporter": "python",
   "pygments_lexer": "ipython3",
   "version": "3.12.2"
  }
 },
 "nbformat": 4,
 "nbformat_minor": 5
}
